{
 "cells": [
  {
   "cell_type": "code",
   "execution_count": null,
   "id": "4cb885a4-b862-48c4-9036-590b67f74bd9",
   "metadata": {},
   "outputs": [],
   "source": [
    "import pandas as pd\n",
    "import numpy as np\n",
    "import matplotlib.pyplot as plt\n",
    "import seaborn as sns"
   ]
  },
  {
   "cell_type": "code",
   "execution_count": null,
   "id": "95b081c2-6769-48f2-9229-115beadb0982",
   "metadata": {},
   "outputs": [],
   "source": [
    "data = pd.read_csv(\"housing.csv\")"
   ]
  },
  {
   "cell_type": "code",
   "execution_count": null,
   "id": "b545f9be-4435-4050-8e97-b4ad62fe58b9",
   "metadata": {},
   "outputs": [],
   "source": [
    "data"
   ]
  },
  {
   "cell_type": "code",
   "execution_count": null,
   "id": "43e81741-8820-49a0-969c-07e151b37737",
   "metadata": {},
   "outputs": [],
   "source": [
    "data.info()"
   ]
  },
  {
   "cell_type": "code",
   "execution_count": null,
   "id": "b1f96a59-2a7e-4375-90f2-11362576897a",
   "metadata": {},
   "outputs": [],
   "source": [
    "data.dropna(inplace=True)"
   ]
  },
  {
   "cell_type": "code",
   "execution_count": null,
   "id": "c82f0f07-aa0f-4b91-aba0-8db9175b2b5b",
   "metadata": {},
   "outputs": [],
   "source": [
    "data.info()"
   ]
  },
  {
   "cell_type": "code",
   "execution_count": null,
   "id": "cbbef1e0-c09e-4b99-9705-dc3b05d2c1a8",
   "metadata": {},
   "outputs": [],
   "source": [
    "from sklearn.model_selection import train_test_split\n",
    "X=data.drop(['median_house_value'],axis=1)\n",
    "y=data['median_house_value']"
   ]
  },
  {
   "cell_type": "code",
   "execution_count": null,
   "id": "81fadc14-c946-498a-b247-1f8b18e95df6",
   "metadata": {},
   "outputs": [],
   "source": [
    "X_train, X_test, y_train, y_test = train_test_split(X, y, test_size=0.2)"
   ]
  },
  {
   "cell_type": "code",
   "execution_count": null,
   "id": "3c3ed27e-636f-4958-b76b-b5df3a3a13c3",
   "metadata": {},
   "outputs": [],
   "source": [
    "train_data= X_train.join(y_train)"
   ]
  },
  {
   "cell_type": "code",
   "execution_count": null,
   "id": "f325539a-c137-4716-aa3f-19e7449436e5",
   "metadata": {},
   "outputs": [],
   "source": [
    "train_data"
   ]
  },
  {
   "cell_type": "code",
   "execution_count": null,
   "id": "123bfab6-f02e-4bef-956a-ac7f38b0a4e0",
   "metadata": {},
   "outputs": [],
   "source": [
    "train_data.hist(figsize=(15,8))"
   ]
  },
  {
   "cell_type": "code",
   "execution_count": null,
   "id": "d1ffdf0b-7f65-4b58-a4bd-f2176d989ea0",
   "metadata": {},
   "outputs": [],
   "source": [
    "plt.figure(figsize=(15,8))\n",
    "sns.heatmap(train_data.corr(numeric_only=True), annot=True, cmap=\"YlGnBu\")"
   ]
  },
  {
   "cell_type": "code",
   "execution_count": null,
   "id": "bb8b0b17-98a3-4c04-9290-30cb19e9f2e7",
   "metadata": {},
   "outputs": [],
   "source": [
    "train_data['total_rooms']=np.log(train_data['total_rooms']+1)\n",
    "train_data['total_bedrooms']=np.log(train_data['total_bedrooms']+1)\n",
    "train_data['population']=np.log(train_data['population']+1)\n",
    "train_data['households']=np.log(train_data['households']+1)"
   ]
  },
  {
   "cell_type": "code",
   "execution_count": null,
   "id": "e29fc407-509b-4615-9ccc-b497d83f7d7a",
   "metadata": {},
   "outputs": [],
   "source": [
    "train_data.hist(figsize=(15,8))"
   ]
  },
  {
   "cell_type": "code",
   "execution_count": null,
   "id": "f62a9014-8e3f-4188-a409-5d6852788810",
   "metadata": {},
   "outputs": [],
   "source": [
    "train_data= train_data.join(pd.get_dummies(train_data.ocean_proximity)).drop(['ocean_proximity'],axis=1)"
   ]
  },
  {
   "cell_type": "code",
   "execution_count": null,
   "id": "4860c015-edfc-4449-94eb-68819816372f",
   "metadata": {},
   "outputs": [],
   "source": [
    "train_data"
   ]
  },
  {
   "cell_type": "code",
   "execution_count": null,
   "id": "a4b4a687-2297-4575-af4a-33207ed45055",
   "metadata": {},
   "outputs": [],
   "source": [
    "plt.figure(figsize=(15,8))"
   ]
  },
  {
   "cell_type": "code",
   "execution_count": null,
   "id": "5f169568-070a-4022-a890-b429acbf98e4",
   "metadata": {},
   "outputs": [],
   "source": [
    "plt.figure(figsize=(15,8))\n",
    "sns.heatmap(train_data.corr(numeric_only=True), annot=True, cmap=\"YlGnBu\")"
   ]
  },
  {
   "cell_type": "code",
   "execution_count": null,
   "id": "633267dc-1bed-43d2-a921-2415f1f2d160",
   "metadata": {},
   "outputs": [],
   "source": [
    "plt.figure(figsize=(15,8))\n",
    "sns.scatterplot(x=\"latitude\",y=\"longitude\",data=train_data,hue=\"median_house_value\",palette=\"coolwarm\")"
   ]
  },
  {
   "cell_type": "code",
   "execution_count": null,
   "id": "ad3a116f-8cda-43ad-9392-95b37250f73e",
   "metadata": {},
   "outputs": [],
   "source": [
    "train_data['bedroom_ratio']=train_data['total_bedrooms']/train_data['total_rooms']\n",
    "train_data['household_rooms']=train_data['total_rooms']/train_data['households']"
   ]
  },
  {
   "cell_type": "code",
   "execution_count": null,
   "id": "fa1c13e8-d20c-499d-b9e6-54fa06d91df1",
   "metadata": {},
   "outputs": [],
   "source": [
    "plt.figure(figsize=(15,8))\n",
    "sns.heatmap(train_data.corr(numeric_only=True), annot=True, cmap=\"YlGnBu\")\n"
   ]
  },
  {
   "cell_type": "code",
   "execution_count": null,
   "id": "90151613-03f3-4245-8e52-8f94c9ca940d",
   "metadata": {},
   "outputs": [],
   "source": [
    "from sklearn.linear_model import LinearRegression\n",
    "from sklearn.preprocessing import StandardScaler\n",
    "\n",
    "scaler=StandardScaler()\n",
    "\n",
    "X_train, y_train = train_data.drop(['median_house_value'],axis=1), train_data['median_house_value']\n",
    "X_train_s = scaler.fit_transform(X_train)\n",
    "\n",
    "reg=LinearRegression()\n",
    "reg.fit(X_train_s, y_train)"
   ]
  },
  {
   "cell_type": "code",
   "execution_count": null,
   "id": "2229701a-0a86-4ed2-9029-2f0430828f7b",
   "metadata": {},
   "outputs": [],
   "source": [
    "test_data=X_test.join(y_test)\n",
    "\n",
    "test_data['total_rooms']=np.log(test_data['total_rooms']+1)\n",
    "test_data['total_bedrooms']=np.log(test_data['total_bedrooms']+1)\n",
    "test_data['population']=np.log(test_data['population']+1)\n",
    "test_data['households']=np.log(test_data['households']+1)\n",
    "\n",
    "test_data=test_data.join(pd.get_dummies(test_data.ocean_proximity)).drop(['ocean_proximity'],axis=1)\n",
    "\n",
    "test_data['bedroom_ratio']=test_data['total_bedrooms']/test_data['total_rooms']\n",
    "test_data['household_rooms']=test_data['total_rooms']/test_data['households']\n"
   ]
  },
  {
   "cell_type": "code",
   "execution_count": null,
   "id": "7e0f6f5f-7102-432a-a954-0f76fa0daa27",
   "metadata": {},
   "outputs": [],
   "source": [
    "X_test,y_test =test_data.drop(['median_house_value'],axis=1), test_data['median_house_value']"
   ]
  },
  {
   "cell_type": "code",
   "execution_count": null,
   "id": "b5929121-8faf-4d50-a542-8ae9e55093e8",
   "metadata": {},
   "outputs": [],
   "source": [
    "X_test_s = scaler.transform(X_test)"
   ]
  },
  {
   "cell_type": "code",
   "execution_count": null,
   "id": "b60c5920-2aec-4ff1-b5ba-982a14f55bdb",
   "metadata": {},
   "outputs": [],
   "source": [
    "reg.score(X_test_s,y_test)"
   ]
  },
  {
   "cell_type": "code",
   "execution_count": null,
   "id": "a5c00f3a-f763-4407-bffb-8b5fe598f5cb",
   "metadata": {},
   "outputs": [],
   "source": [
    "from sklearn.ensemble  import RandomForestRegressor\n",
    "\n",
    "\n",
    "forest= RandomForestRegressor()\n",
    "\n",
    "forest.fit(X_train_s,y_train)\n"
   ]
  },
  {
   "cell_type": "code",
   "execution_count": null,
   "id": "e253256c-efd0-4e3b-a756-509cdd088fc4",
   "metadata": {},
   "outputs": [],
   "source": [
    "RandomForestRegressor()"
   ]
  },
  {
   "cell_type": "code",
   "execution_count": null,
   "id": "a635de03-187e-4ddb-b7b4-0a3554a7b49d",
   "metadata": {},
   "outputs": [],
   "source": [
    "forest.score(X_test_s,y_test)"
   ]
  },
  {
   "cell_type": "code",
   "execution_count": null,
   "id": "c2b832e9-b769-4d71-a36f-510dfb3ef55b",
   "metadata": {},
   "outputs": [],
   "source": [
    "from sklearn.model_selection import GridSearchCV\n",
    "\n",
    "forest=RandomForestRegressor()\n",
    "\n",
    "param_grid= { \n",
    "    \"n_estimators\":[3,10,30],\n",
    "    \"max_features\":[2,4,6,8]\n",
    "   \n",
    "}\n",
    "\n",
    "grid_search=GridSearchCV(forest, param_grid,cv=5,\n",
    "                         scoring=\"neg_mean_squared_error\",\n",
    "                         return_train_score=True)\n",
    "grid_search.fit(X_train_s,y_train)\n",
    "                         \n"
   ]
  },
  {
   "cell_type": "code",
   "execution_count": null,
   "id": "4f66003e-c36a-40f6-a71c-a2ac7b4d63fe",
   "metadata": {},
   "outputs": [],
   "source": [
    "best_forest=grid_search.best_estimator_"
   ]
  },
  {
   "cell_type": "code",
   "execution_count": null,
   "id": "53e063cd-a7f3-40d7-bb6a-9aa67f806879",
   "metadata": {},
   "outputs": [],
   "source": [
    "best_forest.score(X_test_s,y_test)"
   ]
  }
 ],
 "metadata": {
  "kernelspec": {
   "display_name": "Python 3 (ipykernel)",
   "language": "python",
   "name": "python3"
  },
  "language_info": {
   "codemirror_mode": {
    "name": "ipython",
    "version": 3
   },
   "file_extension": ".py",
   "mimetype": "text/x-python",
   "name": "python",
   "nbconvert_exporter": "python",
   "pygments_lexer": "ipython3",
   "version": "3.11.4"
  }
 },
 "nbformat": 4,
 "nbformat_minor": 5
}
